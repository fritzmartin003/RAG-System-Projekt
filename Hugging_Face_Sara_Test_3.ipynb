{
  "nbformat": 4,
  "nbformat_minor": 0,
  "metadata": {
    "colab": {
      "provenance": [],
      "gpuType": "V28",
      "include_colab_link": true
    },
    "kernelspec": {
      "name": "python3",
      "display_name": "Python 3"
    },
    "language_info": {
      "name": "python"
    },
    "accelerator": "TPU"
  },
  "cells": [
    {
      "cell_type": "markdown",
      "metadata": {
        "id": "view-in-github",
        "colab_type": "text"
      },
      "source": [
        "<a href=\"https://colab.research.google.com/github/fritzmartin003/RAG-System-Projekt/blob/main/Hugging_Face_Sara_Test_3.ipynb\" target=\"_parent\"><img src=\"https://colab.research.google.com/assets/colab-badge.svg\" alt=\"Open In Colab\"/></a>"
      ]
    },
    {
      "cell_type": "code",
      "execution_count": null,
      "metadata": {
        "collapsed": true,
        "id": "af-0aWy3zxhG"
      },
      "outputs": [],
      "source": [
        "# Notwendige Bibliotheken installieren\n",
        "!pip install faiss-cpu transformers sentence-transformers pymupdf numpy scipy\n",
        "!pip uninstall -y tensorflow\n"
      ]
    },
    {
      "cell_type": "code",
      "source": [
        "# Imports\n",
        "import fitz  # PyMuPDF\n",
        "import numpy as np\n",
        "import faiss\n",
        "from transformers import AutoModelForCausalLM, AutoTokenizer, pipeline\n",
        "from sentence_transformers import SentenceTransformer\n",
        "import sklearn\n",
        "import torch\n",
        "import time"
      ],
      "metadata": {
        "id": "2g7-4gl6z_T9"
      },
      "execution_count": 2,
      "outputs": []
    },
    {
      "cell_type": "code",
      "source": [
        "from google.colab import userdata\n",
        "HuggingFaceAPIKey = \"HF2\""
      ],
      "metadata": {
        "id": "-1ChFNQQePZ2"
      },
      "execution_count": 3,
      "outputs": []
    },
    {
      "cell_type": "code",
      "source": [
        "# PDF-Text extrahieren\n",
        "def extract_text_from_pdf(pdf_path):\n",
        "    text = \"\"\n",
        "    with fitz.open(pdf_path) as doc:\n",
        "        for page in doc:\n",
        "            text += page.get_text(\"text\") + \"\\n\"\n",
        "    return text\n",
        "\n",
        "pdf_path = \"SakowskiBuch.pdf\"\n",
        "pdf_text = extract_text_from_pdf(pdf_path)\n"
      ],
      "metadata": {
        "id": "04e0tWlU0E4r"
      },
      "execution_count": 4,
      "outputs": []
    },
    {
      "cell_type": "code",
      "source": [
        "# Text in Chunks teilen\n",
        "def split_text(text, chunk_size=300, overlap=90):\n",
        "    chunks = []\n",
        "    start = 0\n",
        "    while start < len(text):\n",
        "        end = start + chunk_size\n",
        "        chunks.append(text[start:end])\n",
        "        start += chunk_size - overlap\n",
        "    return chunks\n",
        "\n",
        "chunks = split_text(pdf_text)\n",
        "print(f\" PDF in {len(chunks)} Chunks unterteilt!\")\n"
      ],
      "metadata": {
        "id": "GBfz_uV00H_8"
      },
      "execution_count": null,
      "outputs": []
    },
    {
      "cell_type": "code",
      "source": [
        "# Embedding Modell laden\n",
        "embedding_model = SentenceTransformer(\"sentence-transformers/all-MiniLM-L6-v2\")\n",
        "\n",
        "# Optimale Batch-Größe finden (Experimentieren!)\n",
        "optimal_batch_size = 5000  # Starte mit einem hohen Wert und reduziere, wenn du Speicherprobleme hast\n",
        "\n",
        "def create_faiss_index(chunks):\n",
        "    start_time = time.time()  # Zeitmessung\n",
        "\n",
        "    # Embeddings erstellen (mit optimierter Batch-Verarbeitung und Tensor-Konvertierung)\n",
        "    chunk_embeddings_tensor = embedding_model.encode(chunks, batch_size=optimal_batch_size, convert_to_tensor=True)\n",
        "    chunk_embeddings = chunk_embeddings_tensor.cpu().numpy()\n",
        "\n",
        "    # Normalisieren der Embeddings (wichtig für die meisten Distanzmetriken)\n",
        "    chunk_embeddings = sklearn.preprocessing.normalize(chunk_embeddings)\n",
        "\n",
        "    dimension = chunk_embeddings.shape[1]\n",
        "\n",
        "    # FAISS Index erstellen (IndexIVFFlat mit Training)\n",
        "    nlist = int(np.sqrt(len(chunk_embeddings)))  # Anzahl der Partitionen (Faustregel)\n",
        "    quantizer = faiss.IndexFlatL2(dimension)  # Quantisierer für die Clusterzentren\n",
        "    index = faiss.IndexIVFFlat(quantizer, dimension, nlist, faiss.METRIC_L2)\n",
        "\n",
        "    # Training des Index (NOTWENDIG für IndexIVFFlat!)\n",
        "    index.train(chunk_embeddings)\n",
        "\n",
        "    # Hinzufügen der Embeddings zum Index (NACH dem Training)\n",
        "    index.add(chunk_embeddings)\n",
        "\n",
        "    end_time = time.time()\n",
        "    print(f\"FAISS Vektordatenbank erstellt! (Zeit: {end_time - start_time:.2f} Sekunden)\")\n",
        "    return index\n",
        "\n",
        "index = create_faiss_index(chunks)\n",
        "\n"
      ],
      "metadata": {
        "id": "7HIj5OvldloR",
        "outputId": "7f982b0c-3aa9-473b-90f0-db548791ba08",
        "colab": {
          "base_uri": "https://localhost:8080/"
        }
      },
      "execution_count": 7,
      "outputs": [
        {
          "output_type": "stream",
          "name": "stdout",
          "text": [
            "FAISS Vektordatenbank erstellt! (Zeit: 160.57 Sekunden)\n"
          ]
        }
      ]
    },
    {
      "cell_type": "code",
      "source": [
        "# Ähnlichkeitssuche in FAISS\n",
        "def get_relevant_chunks(query, top_k=3):\n",
        "    # Get the embedding using the pre-loaded embedding_model\n",
        "    query_embedding = embedding_model.encode(query).reshape(1, -1)\n",
        "    distances, indices = index.search(query_embedding, top_k)\n",
        "    return [chunks[i] for i in indices[0]]"
      ],
      "metadata": {
        "id": "d7gKOrUt0Rrz"
      },
      "execution_count": 12,
      "outputs": []
    },
    {
      "cell_type": "code",
      "source": [
        "from transformers import AutoModelForCausalLM, AutoTokenizer, pipeline\n",
        "import os\n",
        "import torch\n",
        "\n",
        "!huggingface-cli login\n",
        "\n",
        "os.environ[\"HUGGINGFACE_API_KEY\"] = \"HF2\"\n",
        "model_name = \"mistralai/Mistral-7B-v0.1\"  # Alternativ: \"meta-llama/Llama-2-7b-chat-hf\"\n",
        "\n",
        "# Tokenizer & Modell mit explizitem Token laden\n",
        "pipe = pipeline(\"text-generation\", model=\"mistralai/Mistral-7B-v0.1\")\n",
        "tokenizer = AutoTokenizer.from_pretrained(\"mistralai/Mistral-7B-v0.1\")\n",
        "model = AutoModelForCausalLM.from_pretrained(\"mistralai/Mistral-7B-v0.1\")\n",
        "\n",
        "\n",
        "def generate_answer(query):\n",
        "    relevant_chunks = get_relevant_chunks(query, top_k=10)\n",
        "    context = \"\\n\".join(relevant_chunks)\n",
        "    prompt = f\"Beantworte die Frage basierend auf diesem Kontext:\\n\\n{context}\\n\\nFrage: {query}\\nAntwort:\"\n",
        "\n",
        "    response = pipe(prompt, max_new_tokens=128, do_sample=True, temperature=0.5)\n",
        "    return response[0][\"generated_text\"]\n"
      ],
      "metadata": {
        "id": "SVAL0LXV8dXL"
      },
      "execution_count": null,
      "outputs": []
    },
    {
      "cell_type": "code",
      "source": [
        "# Test\n",
        "frage = \"Wie hoch ist der gesetzliche Mindestlohn?\"\n",
        "antwort = generate_answer(frage)\n",
        "print(\"Antwort:\", antwort)"
      ],
      "metadata": {
        "id": "1UYnLzms0Yjo",
        "outputId": "56521983-89c9-4b9c-9229-9eaa2e2e85f5",
        "colab": {
          "base_uri": "https://localhost:8080/"
        }
      },
      "execution_count": 13,
      "outputs": [
        {
          "output_type": "stream",
          "name": "stderr",
          "text": [
            "Setting `pad_token_id` to `eos_token_id`:2 for open-end generation.\n"
          ]
        },
        {
          "output_type": "stream",
          "name": "stdout",
          "text": [
            "Antwort: Beantworte die Frage basierend auf diesem Kontext:\n",
            "\n",
            "ch im Krankheitsfall zu entrichten (BAG – 5 AZR 457/00).\n",
            "3.9  Vergütung\n",
            "\n",
            "86\n",
            "3.9.3\t\n",
            "\u0007Gesetzlicher Mindestlohn\n",
            "Rechtsgrundlage ist das Mindestlohngesetz (MiLoG). Darin ist ein gesetzlicher Anspruch \n",
            "des Arbeitnehmers auf einen Mindestlohn geregelt, die eigenständig neben den arbeits- \n",
            "oder tarifvertra\n",
            "tiert \n",
            "sich nicht an den Vorgaben des gesetzlichen Mindestlohns (vgl. hierzu auch BT-Drs. \n",
            "18/2010 (neu), S. 24)). ◄\n",
            "Branchenspezifische Mindestlohnbestimmungen sind vorrangig, z. B. bei Arbeitsüber-\n",
            "lassung oder Zeitarbeit (§ 3a AÜG) oder bei Arbeitnehmer-Entsendung (§§ 4, 7a AEntG).\n",
            "3  Inhalt des \n",
            "hend muss im Wahlausschreiben die Mindestzahl von Sitzen angegeben werden, \n",
            "die dem Minderheitsgeschlecht zustehen.\n",
            "Dem Betriebsrat kommt als Institution keine eigene Rechtsfähigkeit zu (BGH – III ZR \n",
            "266/11).\n",
            "5.5.3\t\n",
            "\u0007Arbeitsgrundsätze\n",
            "Nach § 2 BetrVG gilt der Grundsatz der vertrauensvollen Zusammen\n",
            " Betriebsrat vertreten sein, \n",
            "wenn dieser aus mindestens drei Mitgliedern besteht (entsprechend zum Gesamtbetriebs­\n",
            "rat § 47 Abs. 2 S. 2 BetrVG und zum Konzernbetriebsrat § 55 Abs. 1 S. 2 BetrVG). Dem­\n",
            "entsprechend muss im Wahlausschreiben die Mindestzahl von Sitzen angegeben werden, \n",
            "die dem Minder\n",
            "ndischen Arbeitgeber ins Inland entsandt werden oder die im Inland rekrutiert wer-\n",
            "den (§ 2 Ziff. 9 MiLoG). Die Höhe des gesetzlichen Mindestlohns ist in der Mindestlohn-\n",
            "anpassungsverordnung geregelt. Sie variiert je nach den Entscheidungen des parlamenta-\n",
            "rischen Gesetzgebers. Seit 1.1.2022 beträg\n",
            "Vergütung bestehen außerhalb gesetzlicher Mindestlöhne oder \n",
            "tariflicher Mindestentgelte nur allgemeine gesetzliche Rahmenbedingungen. Der Arbeit-\n",
            "geber ist nach dem AGG verpflichtet, beim Vorliegen vergleichbarer Sachlagen die Arbeit-\n",
            "nehmer gleich zu behandeln (Gleichbehandlungsgrundsatz). Wenn un\n",
            "-\n",
            "kündigungfrist die oben genannte mindestens sechsmonatige Wartezeit besteht, so dass \n",
            "der Teilzeitanspruch faktisch frühestens nach Ablauf von neun Monaten seit Bestand des \n",
            "Arbeitsverhältnisses durchgeführt werden kann. Ein bestimmter Mindestumfang an Ver-\n",
            "ringerung besteht nicht, eine Begründung\n",
            "riglohnsektor aus der Tarifbindung herauszunehmen, um für diese Arbeitnehmer­\n",
            "gruppe, die vergleichsweise schwer in den Arbeitsprozess einzugliedern ist, die Hürden \n",
            "nicht zu hoch anzulegen. Dem dürfte allerdings mit der gesetzlichen Einführung von \n",
            "branchenübergreifenden Mindestlöhnen bis auf Weite\n",
            "oG\t\n",
            "Mindestlohngesetz\n",
            "min.\t\n",
            "Minute\n",
            "MuSchG\t\n",
            "Mutterschutzgesetz\n",
            "m. w. N.\t\n",
            "mit weiteren Nachweisen\n",
            "NachWG\t\n",
            "Gesetz über den Nachweis der für ein Arbeitsverhältnis geltenden \n",
            "wesentlichen Bedingungen (Nachweisgesetz)\n",
            "OLG\t\n",
            "Oberlandesgericht\n",
            "PflegeZG\t\n",
            "Gesetz über die Pflegezeit (Pflegezeitgesetz)\n",
            "Reha\t\n",
            "Reh\n",
            "können zur Wahlanfechtung führen.\n",
            "5.5  Unternehmensmitbestimmung\n",
            "\n",
            "172\n",
            "Nach § 15 Abs. 2 BetrVG muss das Geschlecht, das in der Belegschaft in der Minder­\n",
            "heit ist, entsprechend seinem zahlenmäßigen Verhältnis im Betriebsrat vertreten sein, \n",
            "wenn dieser aus mindestens drei Mitgliedern besteht (entspre\n",
            "\n",
            "Frage: Wie hoch ist der gesetzliche Mindestlohn?\n",
            "Antwort: Der gesetzliche Mindestlohn beträgt 12 €/Stunde.\n",
            "\n",
            "Frage: Wie hoch ist der gesetzliche Mindestlohn?\n",
            "Antwort: Der gesetzliche Mindestlohn beträgt 12 €/Stunde.\n",
            "\n",
            "Frage: Wie hoch ist der gesetzliche Mindestlohn?\n",
            "Antwort: Der gesetzliche Mindestlohn beträgt 12 €/Stunde.\n",
            "\n",
            "Frage: Wie hoch ist der gesetzliche Mindestlohn?\n",
            "Antwort: Der ges\n"
          ]
        }
      ]
    }
  ]
}