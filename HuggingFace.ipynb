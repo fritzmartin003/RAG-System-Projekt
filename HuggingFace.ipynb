{
  "nbformat": 4,
  "nbformat_minor": 0,
  "metadata": {
    "colab": {
      "provenance": [],
      "include_colab_link": true
    },
    "kernelspec": {
      "name": "python3",
      "display_name": "Python 3"
    },
    "language_info": {
      "name": "python"
    }
  },
  "cells": [
    {
      "cell_type": "markdown",
      "metadata": {
        "id": "view-in-github",
        "colab_type": "text"
      },
      "source": [
        "<a href=\"https://colab.research.google.com/github/fritzmartin003/RAG-System-Projekt/blob/main/HuggingFace.ipynb\" target=\"_parent\"><img src=\"https://colab.research.google.com/assets/colab-badge.svg\" alt=\"Open In Colab\"/></a>"
      ]
    },
    {
      "cell_type": "code",
      "execution_count": null,
      "metadata": {
        "id": "yvC66xCCHthf"
      },
      "outputs": [],
      "source": [
        "!pip install pymupdf openai numpy scipy\n"
      ]
    },
    {
      "cell_type": "code",
      "source": [
        "#mit Secret Manager in Google Colab\n",
        "from google.colab import userdata\n",
        "userdata.get('HF')"
      ],
      "metadata": {
        "id": "qweYqDIoCuHu"
      },
      "execution_count": null,
      "outputs": []
    },
    {
      "cell_type": "code",
      "source": [
        "pdf_path = \"SakowskiBuch.pdf\""
      ],
      "metadata": {
        "id": "4uAGpAMLIMIk"
      },
      "execution_count": 17,
      "outputs": []
    },
    {
      "cell_type": "code",
      "source": [
        "import fitz  # PyMuPDF\n",
        "\n",
        "def extract_text_from_pdf(pdf_path):\n",
        "    text = \"\"\n",
        "    with fitz.open(pdf_path) as doc:\n",
        "        for page in doc:\n",
        "            text += page.get_text(\"text\") + \"\\n\"\n",
        "    return text\n",
        "\n",
        "# Text aus PDF extrahieren\n",
        "pdf_text = extract_text_from_pdf(pdf_path)\n",
        "print(\" Text aus PDF extrahiert!\")\n"
      ],
      "metadata": {
        "colab": {
          "base_uri": "https://localhost:8080/"
        },
        "id": "IEHqVjFSCjN4",
        "outputId": "e416193f-8cca-46a8-a866-de5f3fc76bd3"
      },
      "execution_count": 18,
      "outputs": [
        {
          "output_type": "stream",
          "name": "stdout",
          "text": [
            " Text aus PDF extrahiert!\n"
          ]
        }
      ]
    },
    {
      "cell_type": "code",
      "source": [
        "def split_text(text, chunk_size=500, overlap=100):\n",
        "    chunks = []\n",
        "    start = 0\n",
        "    while start < len(text):\n",
        "        end = start + chunk_size\n",
        "        chunks.append(text[start:end])\n",
        "        start += chunk_size - overlap  # Überschneidung\n",
        "    return chunks\n",
        "\n",
        "chunks = split_text(pdf_text)\n",
        "print(f\" PDF in {len(chunks)} Chunks unterteilt!\")\n"
      ],
      "metadata": {
        "colab": {
          "base_uri": "https://localhost:8080/"
        },
        "id": "WiWC_VGaCoF0",
        "outputId": "e17ac232-b0b6-4b99-9e6a-bbb510993594"
      },
      "execution_count": 19,
      "outputs": [
        {
          "output_type": "stream",
          "name": "stdout",
          "text": [
            " PDF in 1559 Chunks unterteilt!\n"
          ]
        }
      ]
    },
    {
      "cell_type": "code",
      "source": [
        "import numpy as np\n",
        "import openai\n",
        "import os"
      ],
      "metadata": {
        "id": "DjF7D9SYELXK"
      },
      "execution_count": 20,
      "outputs": []
    },
    {
      "cell_type": "code",
      "source": [
        "!pip install sentence-transformers"
      ],
      "metadata": {
        "id": "d6ze4Y-Xk7FC"
      },
      "execution_count": null,
      "outputs": []
    },
    {
      "cell_type": "code",
      "source": [
        "\n",
        "from sentence_transformers import SentenceTransformer\n",
        "\n",
        "# Hugging Face Embedding-Modell laden\n",
        "embedding_model = SentenceTransformer(\"sentence-transformers/all-MiniLM-L6-v2\")\n",
        "\n",
        "# Funktion zum Erstellen von Embeddings\n",
        "def get_embedding(text):\n",
        "    return embedding_model.encode(text, convert_to_numpy=True)\n",
        "\n",
        "# Alle Chunks in Embeddings umwandeln\n",
        "chunk_embeddings = np.array([get_embedding(chunk) for chunk in chunks])\n",
        "\n",
        "print(\"✅ Chunks als Vektoren gespeichert!\")\n"
      ],
      "metadata": {
        "id": "Zvs1u0pPG3Fy"
      },
      "execution_count": null,
      "outputs": []
    },
    {
      "cell_type": "code",
      "source": [
        "from scipy.spatial.distance import cosine\n",
        "\n",
        "def get_relevant_chunks(query, top_k=3):\n",
        "    query_embedding = get_embedding(query)\n",
        "\n",
        "    # Cosine Similarity berechnen\n",
        "    similarities = [1 - cosine(query_embedding, chunk_emb) for chunk_emb in chunk_embeddings]\n",
        "\n",
        "    # Top-k Chunks auswählen (die mit der höchsten Ähnlichkeit)\n",
        "    top_indices = np.argsort(similarities)[-top_k:][::-1]\n",
        "    return [chunks[i] for i in top_indices]\n",
        "\n",
        "print(\" Ähnlichkeitssuche bereit!\")\n"
      ],
      "metadata": {
        "id": "XrTY44g_Hbv4",
        "colab": {
          "base_uri": "https://localhost:8080/"
        },
        "outputId": "2077d925-e7d5-4fe0-a2ef-ce03e6768422"
      },
      "execution_count": 22,
      "outputs": [
        {
          "output_type": "stream",
          "name": "stdout",
          "text": [
            " Ähnlichkeitssuche bereit!\n"
          ]
        }
      ]
    }
  ]
}