{
  "nbformat": 4,
  "nbformat_minor": 0,
  "metadata": {
    "colab": {
      "provenance": [],
      "toc_visible": true,
      "include_colab_link": true
    },
    "kernelspec": {
      "name": "python3",
      "display_name": "Python 3"
    },
    "language_info": {
      "name": "python"
    }
  },
  "cells": [
    {
      "cell_type": "markdown",
      "metadata": {
        "id": "view-in-github",
        "colab_type": "text"
      },
      "source": [
        "<a href=\"https://colab.research.google.com/github/fritzmartin003/RAG-System-Projekt/blob/main/RAG_System_Projekt.ipynb\" target=\"_parent\"><img src=\"https://colab.research.google.com/assets/colab-badge.svg\" alt=\"Open In Colab\"/></a>"
      ]
    },
    {
      "cell_type": "code",
      "execution_count": null,
      "metadata": {
        "id": "yvC66xCCHthf"
      },
      "outputs": [],
      "source": [
        "!pip install pymupdf openai numpy scipy\n"
      ]
    },
    {
      "cell_type": "code",
      "source": [
        "#mit Secret Manager in Google Colab\n",
        "from google.colab import userdata\n",
        "OPENAI_API_KEY = userdata.get('OPENAI')"
      ],
      "metadata": {
        "id": "qweYqDIoCuHu"
      },
      "execution_count": 13,
      "outputs": []
    },
    {
      "cell_type": "code",
      "source": [
        "import fitz  # PyMuPDF\n",
        "\n",
        "def extract_text_from_pdf(pdf_path):\n",
        "    text = \"\"\n",
        "    with fitz.open(pdf_path) as doc:\n",
        "        for page in doc:\n",
        "            text += page.get_text(\"text\") + \"\\n\"\n",
        "    return text\n",
        "\n",
        "# Text aus PDF extrahieren\n",
        "pdf_text = extract_text_from_pdf(pdf_path)\n",
        "print(\" Text aus PDF extrahiert!\")\n"
      ],
      "metadata": {
        "id": "IEHqVjFSCjN4",
        "outputId": "c51f83a6-ae88-4815-80d8-e86e97287e17",
        "colab": {
          "base_uri": "https://localhost:8080/"
        }
      },
      "execution_count": 14,
      "outputs": [
        {
          "output_type": "stream",
          "name": "stdout",
          "text": [
            " Text aus PDF extrahiert!\n"
          ]
        }
      ]
    },
    {
      "cell_type": "code",
      "source": [
        "def split_text(text, chunk_size=500, overlap=100):\n",
        "    chunks = []\n",
        "    start = 0\n",
        "    while start < len(text):\n",
        "        end = start + chunk_size\n",
        "        chunks.append(text[start:end])\n",
        "        start += chunk_size - overlap  # Überschneidung\n",
        "    return chunks\n",
        "\n",
        "chunks = split_text(pdf_text)\n",
        "print(f\" PDF in {len(chunks)} Chunks unterteilt!\")\n"
      ],
      "metadata": {
        "id": "WiWC_VGaCoF0",
        "outputId": "7c639fbd-b27b-4922-8a4e-61361cdbc19a",
        "colab": {
          "base_uri": "https://localhost:8080/"
        }
      },
      "execution_count": 15,
      "outputs": [
        {
          "output_type": "stream",
          "name": "stdout",
          "text": [
            " PDF in 1559 Chunks unterteilt!\n"
          ]
        }
      ]
    },
    {
      "cell_type": "code",
      "source": [
        "import numpy as np\n",
        "import openai"
      ],
      "metadata": {
        "id": "DjF7D9SYELXK"
      },
      "execution_count": 22,
      "outputs": []
    }
  ]
}