{
  "nbformat": 4,
  "nbformat_minor": 0,
  "metadata": {
    "colab": {
      "provenance": [],
      "gpuType": "V28",
      "include_colab_link": true
    },
    "kernelspec": {
      "name": "python3",
      "display_name": "Python 3"
    },
    "language_info": {
      "name": "python"
    },
    "accelerator": "TPU"
  },
  "cells": [
    {
      "cell_type": "markdown",
      "metadata": {
        "id": "view-in-github",
        "colab_type": "text"
      },
      "source": [
        "<a href=\"https://colab.research.google.com/github/fritzmartin003/RAG-System-Projekt/blob/main/Sara%20Test%202.ipynb\" target=\"_parent\"><img src=\"https://colab.research.google.com/assets/colab-badge.svg\" alt=\"Open In Colab\"/></a>"
      ]
    },
    {
      "cell_type": "code",
      "execution_count": null,
      "metadata": {
        "collapsed": true,
        "id": "af-0aWy3zxhG"
      },
      "outputs": [],
      "source": [
        "# Notwendige Bibliotheken installieren\n",
        "!pip install faiss-cpu transformers sentence-transformers pymupdf numpy scipy\n",
        "!pip uninstall -y tensorflow\n"
      ]
    },
    {
      "cell_type": "code",
      "source": [
        "# Imports\n",
        "import fitz  # PyMuPDF\n",
        "import numpy as np\n",
        "import faiss\n",
        "from transformers import AutoModelForCausalLM, AutoTokenizer, pipeline\n",
        "from sentence_transformers import SentenceTransformer\n",
        "import sklearn\n",
        "import torch\n",
        "import time"
      ],
      "metadata": {
        "id": "2g7-4gl6z_T9"
      },
      "execution_count": 2,
      "outputs": []
    },
    {
      "cell_type": "code",
      "source": [
        "from google.colab import userdata\n",
        "HuggingFaceAPIKey = \"HF2\""
      ],
      "metadata": {
        "id": "-1ChFNQQePZ2"
      },
      "execution_count": 3,
      "outputs": []
    },
    {
      "cell_type": "code",
      "source": [
        "# PDF-Text extrahieren\n",
        "def extract_text_from_pdf(pdf_path):\n",
        "    text = \"\"\n",
        "    with fitz.open(pdf_path) as doc:\n",
        "        for page in doc:\n",
        "            text += page.get_text(\"text\") + \"\\n\"\n",
        "    return text\n",
        "\n",
        "pdf_path = \"SakowskiBuch.pdf\"\n",
        "pdf_text = extract_text_from_pdf(pdf_path)\n"
      ],
      "metadata": {
        "id": "04e0tWlU0E4r"
      },
      "execution_count": 5,
      "outputs": []
    },
    {
      "cell_type": "code",
      "source": [
        "# Text in Chunks teilen\n",
        "def split_text(text, chunk_size=500, overlap=90):\n",
        "    chunks = []\n",
        "    start = 0\n",
        "    while start < len(text):\n",
        "        end = start + chunk_size\n",
        "        chunks.append(text[start:end])\n",
        "        start += chunk_size - overlap\n",
        "    return chunks\n",
        "\n",
        "chunks = split_text(pdf_text)\n",
        "print(f\" PDF in {len(chunks)} Chunks unterteilt!\")"
      ],
      "metadata": {
        "id": "wnqD4PK5DiVG",
        "outputId": "aeec3d3c-3025-4d35-9711-5a06e91703f3",
        "colab": {
          "base_uri": "https://localhost:8080/"
        }
      },
      "execution_count": 22,
      "outputs": [
        {
          "output_type": "stream",
          "name": "stdout",
          "text": [
            " PDF in 1521 Chunks unterteilt!\n"
          ]
        }
      ]
    },
    {
      "cell_type": "code",
      "source": [
        "# Embedding Modell laden\n",
        "embedding_model = SentenceTransformer(\"sentence-transformers/all-MiniLM-L6-v2\")\n",
        "\n",
        "# Optimale Batch-Größe finden (Experimentieren!)\n",
        "optimal_batch_size = 3000  # Starte mit einem hohen Wert und reduziere, wenn du Speicherprobleme hast\n",
        "\n",
        "def create_faiss_index(chunks):\n",
        "    start_time = time.time()  # Zeitmessung\n",
        "\n",
        "    # Embeddings erstellen (mit optimierter Batch-Verarbeitung und Tensor-Konvertierung)\n",
        "    chunk_embeddings_tensor = embedding_model.encode(chunks, batch_size=optimal_batch_size, convert_to_tensor=True)\n",
        "    chunk_embeddings = chunk_embeddings_tensor.cpu().numpy()\n",
        "\n",
        "    # Normalisieren der Embeddings (wichtig für die meisten Distanzmetriken)\n",
        "    chunk_embeddings = sklearn.preprocessing.normalize(chunk_embeddings)\n",
        "\n",
        "    dimension = chunk_embeddings.shape[1]\n",
        "\n",
        "    # FAISS Index erstellen (IndexIVFFlat mit Training)\n",
        "    nlist = int(np.sqrt(len(chunk_embeddings)))  # Anzahl der Partitionen (Faustregel)\n",
        "    quantizer = faiss.IndexFlatL2(dimension)  # Quantisierer für die Clusterzentren\n",
        "    index = faiss.IndexIVFFlat(quantizer, dimension, nlist, faiss.METRIC_L2)\n",
        "\n",
        "    # Training des Index (NOTWENDIG für IndexIVFFlat!)\n",
        "    index.train(chunk_embeddings)\n",
        "\n",
        "    # Hinzufügen der Embeddings zum Index (NACH dem Training)\n",
        "    index.add(chunk_embeddings)\n",
        "\n",
        "    end_time = time.time()\n",
        "    print(f\"FAISS Vektordatenbank erstellt! (Zeit: {end_time - start_time:.2f} Sekunden)\")\n",
        "    return index\n",
        "\n",
        "index = create_faiss_index(chunks)"
      ],
      "metadata": {
        "id": "BOftmRBTfAWZ"
      },
      "execution_count": null,
      "outputs": []
    },
    {
      "cell_type": "code",
      "source": [
        "def search(index, query, k=5):\n",
        "    query_embedding_tensor = embedding_model.encode([query], convert_to_tensor=True)\n",
        "    query_embedding = query_embedding_tensor.cpu().numpy()\n",
        "\n",
        "    query_embedding = sklearn.preprocessing.normalize(query_embedding)\n",
        "    D, I = index.search(query_embedding, k)  # D: Distanzen, I: Indizes\n",
        "    return D, I\n",
        "\n",
        "def get_search_results(index, query, chunks, k=5):\n",
        "    D, I = search(index, query, k)\n",
        "    results = []\n",
        "    for i, distance in zip(I[0], D[0]):\n",
        "        results.append({\"chunk\": chunks[i], \"distance\": distance})\n",
        "    return results\n"
      ],
      "metadata": {
        "collapsed": true,
        "id": "475q5mT3D9Ih"
      },
      "execution_count": 9,
      "outputs": []
    },
    {
      "cell_type": "code",
      "source": [
        "from transformers import AutoModelForCausalLM, AutoTokenizer, pipeline\n",
        "import os\n",
        "import torch\n",
        "\n",
        "!huggingface-cli login\n",
        "\n",
        "os.environ[\"HUGGINGFACE_API_KEY\"] = \"HF2\"\n",
        "model_name = \"mistralai/Mistral-7B-v0.1\"  # Alternativ: \"meta-llama/Llama-2-7b-chat-hf\"\n",
        "\n",
        "# Tokenizer & Modell mit explizitem Token laden\n",
        "pipe = pipeline(\"text-generation\", model=\"mistralai/Mistral-7B-v0.1\")\n",
        "tokenizer = AutoTokenizer.from_pretrained(\"mistralai/Mistral-7B-v0.1\")\n",
        "model = AutoModelForCausalLM.from_pretrained(\"mistralai/Mistral-7B-v0.1\")\n",
        "\n",
        "def generate_answer(query):\n",
        "    relevant_chunks = get_search_results(index, query, chunks, k=10)\n",
        "    for relevant_chunk in relevant_chunks:\n",
        "        print(f\"Chunk: {relevant_chunk['chunk']}\")\n",
        "        print(f\"Distanz: {relevant_chunk['distance']:.4f}\")\n",
        "        print(\"-\" * 20)\n",
        "    # Extract the text content from the relevant_chunks list of dictionaries\n",
        "    context = \"\\n\".join([chunk['chunk'] for chunk in relevant_chunks])\n",
        "    prompt = f\"Beantworte die Frage basierend auf diesem Kontext:\\n\\n{context}\\n\\nFrage: {query}\\nAntwort:\"\n",
        "\n",
        "    response = pipe(prompt, max_new_tokens=128, do_sample=True, temperature=0.5)\n",
        "    return response[0][\"generated_text\"]"
      ],
      "metadata": {
        "id": "SVAL0LXV8dXL"
      },
      "execution_count": null,
      "outputs": []
    },
    {
      "cell_type": "code",
      "source": [
        "# Test\n",
        "frage = \"Welche Besonderheiten bestehen für Auszubildende?\"\n",
        "antwort = generate_answer(frage)\n",
        "print(\"Antwort:\", antwort)"
      ],
      "metadata": {
        "id": "1UYnLzms0Yjo"
      },
      "execution_count": null,
      "outputs": []
    }
  ]
}