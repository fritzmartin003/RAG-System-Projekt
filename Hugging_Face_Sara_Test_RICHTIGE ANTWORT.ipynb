{
  "nbformat": 4,
  "nbformat_minor": 0,
  "metadata": {
    "colab": {
      "provenance": [],
      "gpuType": "V28",
      "include_colab_link": true
    },
    "kernelspec": {
      "name": "python3",
      "display_name": "Python 3"
    },
    "language_info": {
      "name": "python"
    },
    "accelerator": "TPU"
  },
  "cells": [
    {
      "cell_type": "markdown",
      "metadata": {
        "id": "view-in-github",
        "colab_type": "text"
      },
      "source": [
        "<a href=\"https://colab.research.google.com/github/fritzmartin003/RAG-System-Projekt/blob/main/Hugging_Face_Sara_Test_RICHTIGE%20ANTWORT.ipynb\" target=\"_parent\"><img src=\"https://colab.research.google.com/assets/colab-badge.svg\" alt=\"Open In Colab\"/></a>"
      ]
    },
    {
      "cell_type": "code",
      "execution_count": null,
      "metadata": {
        "collapsed": true,
        "id": "af-0aWy3zxhG"
      },
      "outputs": [],
      "source": [
        "# Notwendige Bibliotheken installieren\n",
        "!pip install faiss-cpu transformers sentence-transformers pymupdf numpy scipy\n",
        "!pip uninstall -y tensorflow\n"
      ]
    },
    {
      "cell_type": "code",
      "source": [
        "# Imports\n",
        "import fitz  # PyMuPDF\n",
        "import numpy as np\n",
        "import faiss\n",
        "from transformers import AutoModelForCausalLM, AutoTokenizer, pipeline\n",
        "from sentence_transformers import SentenceTransformer\n",
        "import sklearn\n",
        "import torch\n",
        "import time"
      ],
      "metadata": {
        "id": "2g7-4gl6z_T9"
      },
      "execution_count": 2,
      "outputs": []
    },
    {
      "cell_type": "code",
      "source": [
        "from google.colab import userdata\n",
        "HuggingFaceAPIKey = \"HF2\""
      ],
      "metadata": {
        "id": "-1ChFNQQePZ2"
      },
      "execution_count": 3,
      "outputs": []
    },
    {
      "cell_type": "code",
      "source": [
        "# PDF-Text extrahieren\n",
        "def extract_text_from_pdf(pdf_path):\n",
        "    text = \"\"\n",
        "    with fitz.open(pdf_path) as doc:\n",
        "        for page in doc:\n",
        "            text += page.get_text(\"text\") + \"\\n\"\n",
        "    return text\n",
        "\n",
        "pdf_path = \"SakowskiBuch.pdf\"\n",
        "pdf_text = extract_text_from_pdf(pdf_path)\n"
      ],
      "metadata": {
        "id": "04e0tWlU0E4r"
      },
      "execution_count": 4,
      "outputs": []
    },
    {
      "cell_type": "code",
      "source": [
        "# Text in Chunks teilen\n",
        "def split_text(text, chunk_size=300, overlap=90):\n",
        "    chunks = []\n",
        "    start = 0\n",
        "    while start < len(text):\n",
        "        end = start + chunk_size\n",
        "        chunks.append(text[start:end])\n",
        "        start += chunk_size - overlap\n",
        "    return chunks\n",
        "\n",
        "chunks = split_text(pdf_text)\n",
        "print(f\" PDF in {len(chunks)} Chunks unterteilt!\")\n"
      ],
      "metadata": {
        "id": "GBfz_uV00H_8"
      },
      "execution_count": null,
      "outputs": []
    },
    {
      "cell_type": "code",
      "source": [
        "# Embedding Modell laden\n",
        "embedding_model = SentenceTransformer(\"sentence-transformers/all-MiniLM-L6-v2\")\n",
        "\n",
        "# Optimale Batch-Größe finden (Experimentieren!)\n",
        "optimal_batch_size = 5000  # Starte mit einem hohen Wert und reduziere, wenn du Speicherprobleme hast\n",
        "\n",
        "def create_faiss_index(chunks):\n",
        "    start_time = time.time()  # Zeitmessung\n",
        "\n",
        "    # Embeddings erstellen (mit optimierter Batch-Verarbeitung und Tensor-Konvertierung)\n",
        "    chunk_embeddings_tensor = embedding_model.encode(chunks, batch_size=optimal_batch_size, convert_to_tensor=True)\n",
        "    chunk_embeddings = chunk_embeddings_tensor.cpu().numpy()\n",
        "\n",
        "    # Normalisieren der Embeddings (wichtig für die meisten Distanzmetriken)\n",
        "    chunk_embeddings = sklearn.preprocessing.normalize(chunk_embeddings)\n",
        "\n",
        "    dimension = chunk_embeddings.shape[1]\n",
        "\n",
        "    # FAISS Index erstellen (IndexIVFFlat mit Training)\n",
        "    nlist = int(np.sqrt(len(chunk_embeddings)))  # Anzahl der Partitionen (Faustregel)\n",
        "    quantizer = faiss.IndexFlatL2(dimension)  # Quantisierer für die Clusterzentren\n",
        "    index = faiss.IndexIVFFlat(quantizer, dimension, nlist, faiss.METRIC_L2)\n",
        "\n",
        "    # Training des Index (NOTWENDIG für IndexIVFFlat!)\n",
        "    index.train(chunk_embeddings)\n",
        "\n",
        "    # Hinzufügen der Embeddings zum Index (NACH dem Training)\n",
        "    index.add(chunk_embeddings)\n",
        "\n",
        "    end_time = time.time()\n",
        "    print(f\"FAISS Vektordatenbank erstellt! (Zeit: {end_time - start_time:.2f} Sekunden)\")\n",
        "    return index\n",
        "\n",
        "index = create_faiss_index(chunks)\n",
        "\n"
      ],
      "metadata": {
        "id": "7HIj5OvldloR",
        "outputId": "7f982b0c-3aa9-473b-90f0-db548791ba08",
        "colab": {
          "base_uri": "https://localhost:8080/"
        }
      },
      "execution_count": 7,
      "outputs": [
        {
          "output_type": "stream",
          "name": "stdout",
          "text": [
            "FAISS Vektordatenbank erstellt! (Zeit: 160.57 Sekunden)\n"
          ]
        }
      ]
    },
    {
      "cell_type": "code",
      "source": [
        "def search(index, query, k=5):\n",
        "    query_embedding_tensor = embedding_model.encode([query], convert_to_tensor=True)\n",
        "    query_embedding = query_embedding_tensor.cpu().numpy()\n",
        "\n",
        "    query_embedding = sklearn.preprocessing.normalize(query_embedding)\n",
        "    D, I = index.search(query_embedding, k)  # D: Distanzen, I: Indizes\n",
        "    return D, I\n",
        "\n",
        "def get_search_results(index, query, chunks, k=5):\n",
        "    D, I = search(index, query, k)\n",
        "    results = []\n",
        "    for i, distance in zip(I[0], D[0]):\n",
        "        results.append({\"chunk\": chunks[i], \"distance\": distance})\n",
        "    return results"
      ],
      "metadata": {
        "id": "HyHyOt5kibQZ"
      },
      "execution_count": 15,
      "outputs": []
    },
    {
      "cell_type": "code",
      "source": [
        "# Ähnlichkeitssuche in FAISS\n",
        "def get_relevant_chunks(query, top_k=3):\n",
        "    # Get the embedding using the pre-loaded embedding_model\n",
        "    query_embedding = embedding_model.encode(query).reshape(1, -1)\n",
        "    distances, indices = index.search(query_embedding, top_k)\n",
        "    return [chunks[i] for i in indices[0]]"
      ],
      "metadata": {
        "id": "d7gKOrUt0Rrz"
      },
      "execution_count": 16,
      "outputs": []
    },
    {
      "cell_type": "code",
      "source": [
        "from transformers import AutoModelForCausalLM, AutoTokenizer, pipeline\n",
        "import os\n",
        "import torch\n",
        "\n",
        "!huggingface-cli login\n",
        "\n",
        "os.environ[\"HUGGINGFACE_API_KEY\"] = \"HF2\"\n",
        "model_name = \"mistralai/Mistral-7B-v0.1\"  # Alternativ: \"meta-llama/Llama-2-7b-chat-hf\"\n",
        "\n",
        "# Tokenizer & Modell mit explizitem Token laden\n",
        "pipe = pipeline(\"text-generation\", model=\"mistralai/Mistral-7B-v0.1\")\n",
        "tokenizer = AutoTokenizer.from_pretrained(\"mistralai/Mistral-7B-v0.1\")\n",
        "model = AutoModelForCausalLM.from_pretrained(\"mistralai/Mistral-7B-v0.1\")\n",
        "\n",
        "\n",
        "def generate_answer(query):\n",
        "    relevant_chunks = get_relevant_chunks(query, top_k=10)\n",
        "    context = \"\\n\".join(relevant_chunks)\n",
        "    prompt = f\"Beantworte die Frage basierend auf diesem Kontext:\\n\\n{context}\\n\\nFrage: {query}\\nAntwort:\"\n",
        "\n",
        "    response = pipe(prompt, max_new_tokens=128, do_sample=True, temperature=0.5)\n",
        "    return response[0][\"generated_text\"]\n"
      ],
      "metadata": {
        "id": "SVAL0LXV8dXL"
      },
      "execution_count": null,
      "outputs": []
    },
    {
      "cell_type": "code",
      "source": [
        "# Test\n",
        "frage = \"Wie hoch ist der gesetzliche Mindestlohn?\"\n",
        "antwort = generate_answer(frage)\n",
        "print(\"Antwort:\", antwort)"
      ],
      "metadata": {
        "id": "1UYnLzms0Yjo",
        "colab": {
          "base_uri": "https://localhost:8080/"
        },
        "outputId": "b784a4ca-7d66-4ce3-c148-48ab8a4978eb"
      },
      "execution_count": 18,
      "outputs": [
        {
          "output_type": "stream",
          "name": "stderr",
          "text": [
            "Setting `pad_token_id` to `eos_token_id`:2 for open-end generation.\n"
          ]
        },
        {
          "output_type": "stream",
          "name": "stdout",
          "text": [
            "Antwort: Beantworte die Frage basierend auf diesem Kontext:\n",
            "\n",
            "ch im Krankheitsfall zu entrichten (BAG – 5 AZR 457/00).\n",
            "3.9  Vergütung\n",
            "\n",
            "86\n",
            "3.9.3\t\n",
            "\u0007Gesetzlicher Mindestlohn\n",
            "Rechtsgrundlage ist das Mindestlohngesetz (MiLoG). Darin ist ein gesetzlicher Anspruch \n",
            "des Arbeitnehmers auf einen Mindestlohn geregelt, die eigenständig neben den arbeits- \n",
            "oder tarifvertra\n",
            "tiert \n",
            "sich nicht an den Vorgaben des gesetzlichen Mindestlohns (vgl. hierzu auch BT-Drs. \n",
            "18/2010 (neu), S. 24)). ◄\n",
            "Branchenspezifische Mindestlohnbestimmungen sind vorrangig, z. B. bei Arbeitsüber-\n",
            "lassung oder Zeitarbeit (§ 3a AÜG) oder bei Arbeitnehmer-Entsendung (§§ 4, 7a AEntG).\n",
            "3  Inhalt des \n",
            "hend muss im Wahlausschreiben die Mindestzahl von Sitzen angegeben werden, \n",
            "die dem Minderheitsgeschlecht zustehen.\n",
            "Dem Betriebsrat kommt als Institution keine eigene Rechtsfähigkeit zu (BGH – III ZR \n",
            "266/11).\n",
            "5.5.3\t\n",
            "\u0007Arbeitsgrundsätze\n",
            "Nach § 2 BetrVG gilt der Grundsatz der vertrauensvollen Zusammen\n",
            " Betriebsrat vertreten sein, \n",
            "wenn dieser aus mindestens drei Mitgliedern besteht (entsprechend zum Gesamtbetriebs­\n",
            "rat § 47 Abs. 2 S. 2 BetrVG und zum Konzernbetriebsrat § 55 Abs. 1 S. 2 BetrVG). Dem­\n",
            "entsprechend muss im Wahlausschreiben die Mindestzahl von Sitzen angegeben werden, \n",
            "die dem Minder\n",
            "ndischen Arbeitgeber ins Inland entsandt werden oder die im Inland rekrutiert wer-\n",
            "den (§ 2 Ziff. 9 MiLoG). Die Höhe des gesetzlichen Mindestlohns ist in der Mindestlohn-\n",
            "anpassungsverordnung geregelt. Sie variiert je nach den Entscheidungen des parlamenta-\n",
            "rischen Gesetzgebers. Seit 1.1.2022 beträg\n",
            "Vergütung bestehen außerhalb gesetzlicher Mindestlöhne oder \n",
            "tariflicher Mindestentgelte nur allgemeine gesetzliche Rahmenbedingungen. Der Arbeit-\n",
            "geber ist nach dem AGG verpflichtet, beim Vorliegen vergleichbarer Sachlagen die Arbeit-\n",
            "nehmer gleich zu behandeln (Gleichbehandlungsgrundsatz). Wenn un\n",
            "-\n",
            "kündigungfrist die oben genannte mindestens sechsmonatige Wartezeit besteht, so dass \n",
            "der Teilzeitanspruch faktisch frühestens nach Ablauf von neun Monaten seit Bestand des \n",
            "Arbeitsverhältnisses durchgeführt werden kann. Ein bestimmter Mindestumfang an Ver-\n",
            "ringerung besteht nicht, eine Begründung\n",
            "riglohnsektor aus der Tarifbindung herauszunehmen, um für diese Arbeitnehmer­\n",
            "gruppe, die vergleichsweise schwer in den Arbeitsprozess einzugliedern ist, die Hürden \n",
            "nicht zu hoch anzulegen. Dem dürfte allerdings mit der gesetzlichen Einführung von \n",
            "branchenübergreifenden Mindestlöhnen bis auf Weite\n",
            "oG\t\n",
            "Mindestlohngesetz\n",
            "min.\t\n",
            "Minute\n",
            "MuSchG\t\n",
            "Mutterschutzgesetz\n",
            "m. w. N.\t\n",
            "mit weiteren Nachweisen\n",
            "NachWG\t\n",
            "Gesetz über den Nachweis der für ein Arbeitsverhältnis geltenden \n",
            "wesentlichen Bedingungen (Nachweisgesetz)\n",
            "OLG\t\n",
            "Oberlandesgericht\n",
            "PflegeZG\t\n",
            "Gesetz über die Pflegezeit (Pflegezeitgesetz)\n",
            "Reha\t\n",
            "Reh\n",
            "können zur Wahlanfechtung führen.\n",
            "5.5  Unternehmensmitbestimmung\n",
            "\n",
            "172\n",
            "Nach § 15 Abs. 2 BetrVG muss das Geschlecht, das in der Belegschaft in der Minder­\n",
            "heit ist, entsprechend seinem zahlenmäßigen Verhältnis im Betriebsrat vertreten sein, \n",
            "wenn dieser aus mindestens drei Mitgliedern besteht (entspre\n",
            "\n",
            "Frage: Wie hoch ist der gesetzliche Mindestlohn?\n",
            "Antwort: 9,82 Euro\n",
            "\n",
            "3.9.3\t\n",
            "\u0007Gesetzlicher Mindestlohn\n",
            "Rechtsgrundlage ist das Mindestlohngesetz (MiLoG). Darin ist ein gesetzlicher Anspruch \n",
            "des Arbeitnehmers auf einen Mindestlohn geregelt, die eigenständig neben den arbeits- \n",
            "oder tarifvertra\n",
            "tiert \n",
            "sich nicht an den Vorgaben des gesetzlichen Mindestlohns (vgl. hierzu auch BT-Drs. \n",
            "18\n"
          ]
        }
      ]
    },
    {
      "cell_type": "code",
      "source": [
        "# Test\n",
        "frage = \"Wie hoch ist die Kündigungsfrist in der Probezeit?\"\n",
        "antwort = generate_answer(frage)\n",
        "print(\"Antwort:\", antwort)"
      ],
      "metadata": {
        "id": "6hOdxI4pnX1Q",
        "outputId": "8a0d1af4-3f19-4cfd-bfa6-e83cdca25963",
        "colab": {
          "base_uri": "https://localhost:8080/"
        }
      },
      "execution_count": 19,
      "outputs": [
        {
          "output_type": "stream",
          "name": "stderr",
          "text": [
            "Setting `pad_token_id` to `eos_token_id`:2 for open-end generation.\n"
          ]
        },
        {
          "output_type": "stream",
          "name": "stdout",
          "text": [
            "Antwort: Beantworte die Frage basierend auf diesem Kontext:\n",
            "\n",
            "ernde Wirkungen hätte. Ist die Kündigung wirksam? (AG Düsseldorf – 7 Ca \n",
            "2591/11). ◄\n",
            "Bei Auszubildenden sind besondere Schutzbedürfnisse zu beachten, sodass eine frist-\n",
            "lose Kündigung aus wichtigem Grund nur das allerletzte Mittel darstellen darf. Selbst im \n",
            "Falle schlechter Arbeitsleistungen darf e\n",
            "schläge zu den Kontrollfragen\n",
            "\n",
            "192\n",
            "6.2.4\t\n",
            "\u0007Kapitel 4\n",
            "\t1.\t Zu einer wirksamen Kündigungserklärung ist eine bestimmte und unmissverständliche \n",
            "Erklärung des Kündigenden erforderlich. Diese muss auch Angaben zum Beendigungs­\n",
            "datum enthalten. Ggf. reicht ein Hinweis auf spezielle Kündigungsfristen aus V\n",
            "cht funktio-\n",
            "nieren könne, weshalb er mit der verkürzten Kündigungsfrist kündigt. AN meint, die \n",
            "Kündigung sei unwirksam, weil sich AG nicht genügend Zeit für eine Einschätzung \n",
            "ihrer Arbeit gelassen habe. Ist die Kündigung wirksam (vgl. hierzu LAG München -, 9 \n",
            "Sa 406/05)? ◄\n",
            "Abweichendes kann sich \n",
            "Frist beendet. Eine solche Kündigung ist unter den Voraus-\n",
            "setzungen der §§ 626, 314 in jeder Lage und zu jedem Zeitpunkt möglich. Einschränkungen \n",
            "des Kündigungsschutzgesetzes oder anderer Schutzgesetze gelten für eine solche \n",
            "­Kündigung nicht (Ausnahme § 13 KSchG). Ein vertraglicher Ausschluss der\n",
            "��������������������������������������������������������������������������118\n",
            "\t4.3\t \u0007Formelle Wirksamkeit der Kündigung\b����������������������������������������������������������119\n",
            "Inhaltsverzeichnis\n",
            "\n",
            "XIV\n",
            "\t4.3.1\t \u0007Kündigungserklärung\b�����������������������������������������������������������������\n",
            "hältnis enden soll. Laut Sachverhalt \n",
            "erfolgt hier ein solcher Hinweis, sogar noch ergänzt um die besondere und vorrangige \n",
            "Kündigungsregelung im Falle der Insolvenz. Folglich ist die Kündigungserklärung hin­\n",
            "reichend bestimmt und die Kündigung damit formell wirksam.\n",
            "Abschn. 4.3.1/Fall 2: Zur Wirksa\n",
            "nforderungen gelten für eine wirksame Kündigungserklärung?\n",
            "\t2.\t Wann ist eine Kündigung unter Abwesenden dem Kündigungsempfänger zu-\n",
            "gegangen?\n",
            "\t3.\t Sind Kündigungen gegenüber Arbeitnehmern, die nicht dem KSchG unterfallen, in \n",
            "jedem Falle wirksam?\n",
            "\t4.\t Wann ist eine personenbezogene Kündigung nach d\n",
            "ch Ablauf von sechs Monaten. Probezeit und Wartezeit haben also nichts mit-\n",
            "einander zu tun.\n",
            "Merke: Verlängerung der Probezeit\n",
            "„Künstlich“ kann die Probezeit dadurch verlängert werden, dass z. B. eine Kündi-\n",
            "gung am Ende der Probezeit mit einer längeren als der gesetzlichen Zweiwochenfrist \n",
            "erfolgt \n",
            " Kündigung gel­\n",
            "ten mithin keine besonderen sachlichen Voraussetzungen. Die Vorschriften des AGG \n",
            "gelten nach dem Wortlaut des § 2 Abs. 4 AGG zwar nicht für Kündigungen. Jedoch geht \n",
            "das BAG zumindest bei Kündigungen, die nur mangels Erreichen der sechsmonatigen \n",
            "Wartezeit (§ 1 KSchG) nicht in den A\n",
            "sweise der \n",
            "„Freundesliste“ des Bewerbers, gehört).\n",
            "\t5.\t Eine Kündigung ist grundsätzlich zu jeder Zeit möglich, also auch schon vor Antritt der \n",
            "Stelle, soweit nicht das Gesetz (§ 242) oder der Arbeitsvertrag eine Einschränkung ent­\n",
            "halten. Zu prüfen wäre im Einzelfall, ob eine „Kündigung zur Unzei\n",
            "\n",
            "Frage: Wie hoch ist die Kündigungsfrist in der Probezeit?\n",
            "Antwort: Die Kündigungsfrist beträgt während der Probezeit zwei Wochen.\n",
            "\t6.\t Kündigungen gegenüber Arbeitnehmern, die nicht dem KSchG unterfallen, sind in \n",
            "jedem Falle wirksam.\n",
            "\t7.\t Wenn eine Kündigungserklärung nicht dem Kündigungsempfänger persönlich zu­\n",
            "gegangen ist, ist sie erst nach Ablauf von sechs Monaten wirksam.\n",
            "\t8.\t Nach der Wirksamkeit einer Kündigungserkl\n"
          ]
        }
      ]
    }
  ]
}